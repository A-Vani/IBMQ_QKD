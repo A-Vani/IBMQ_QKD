{
 "cells": [
  {
   "cell_type": "markdown",
   "metadata": {},
   "source": [
    "## Quantum key destribution and Quantum Cryptography"
   ]
  },
  {
   "cell_type": "markdown",
   "metadata": {},
   "source": [
    "### This is for simulation only on qasm Simulator"
   ]
  },
  {
   "cell_type": "markdown",
   "metadata": {},
   "source": [
    "#### Code by Akash and Daniel "
   ]
  },
  {
   "cell_type": "markdown",
   "metadata": {},
   "source": [
    "Brief description of the code.\n",
    "If you want to send a code over the internet but dont want anyone to hear youto r conversation, QKD is the solution.\n",
    "Basically, QKD is about making the right information available to public keeping the important points private.\n",
    "Here we deal with **Alice** who wants to send a very secret message to **Bob**  "
   ]
  },
  {
   "cell_type": "markdown",
   "metadata": {},
   "source": [
    "Required packages"
   ]
  },
  {
   "cell_type": "code",
   "execution_count": 1,
   "metadata": {},
   "outputs": [],
   "source": [
    "import qiskit\n",
    "\n",
    "#other useful packages\n",
    "import math\n",
    "import numpy as np\n",
    "\n",
    "# Import Qiskit\n",
    "from qiskit import Aer, execute\n",
    "from qiskit import QuantumCircuit, ClassicalRegister, QuantumRegister"
   ]
  },
  {
   "cell_type": "markdown",
   "metadata": {},
   "source": [
    "Set backend as the qasm Simulator"
   ]
  },
  {
   "cell_type": "code",
   "execution_count": 2,
   "metadata": {},
   "outputs": [],
   "source": [
    "#define backend from the simulator\n",
    "backend = Aer.get_backend('qasm_simulator')  "
   ]
  },
  {
   "cell_type": "markdown",
   "metadata": {},
   "source": [
    "## Part 1: Define the message "
   ]
  },
  {
   "cell_type": "markdown",
   "metadata": {},
   "source": [
    "Enter a message that you would like to transmit to Bob. The default message is 'Hello world'. The cell below takes the input message and defines the 'length of message' (slightly longer than the actual message). This will be useful to generate our key. The longer this len_message, the better. (Keep it 3x to be on the safe side)"
   ]
  },
  {
   "cell_type": "code",
   "execution_count": 3,
   "metadata": {},
   "outputs": [
    {
     "name": "stdout",
     "output_type": "stream",
     "text": [
      "Enter a short message (default message is \"Hello World\") : \n",
      "The message to be sent is \" Hello World \"\n"
     ]
    }
   ],
   "source": [
    "#you are ALICE\n",
    "#this block deals with the breaking of message into small chucnks, need small chunks if you have small number of qubits\n",
    "\n",
    "#message = '' #used for debugging\n",
    "message = input('Enter a short message (default message is \"Hello World\") : ')\n",
    "if len(message)<1:\n",
    "    message = 'Hello World'\n",
    "print('The message to be sent is \"', message,'\"')\n",
    "\n",
    "\n",
    "#initial size of encrypttion key, arbitary number to multiply so that len of string/key is longer than the actual message!\n",
    "len_message = len(message)*3"
   ]
  },
  {
   "cell_type": "markdown",
   "metadata": {},
   "source": [
    "Define the number of qubits of the system that will be used to process. Sice we need to generate a random string of binary numbers, we need to restrict it with the maximum available qubits. We then divide the message into chunks of maximum available qubits (default 5 qubits)"
   ]
  },
  {
   "cell_type": "code",
   "execution_count": 4,
   "metadata": {
    "scrolled": true
   },
   "outputs": [
    {
     "name": "stdout",
     "output_type": "stream",
     "text": [
      "Key length = length of message 33\n",
      "The message is broken in to the following chuncks: [1, 1, 1, 1, 1, 1, 1, 1, 1, 1, 1, 1, 1, 1, 1, 1, 1, 1, 1, 1, 1, 1, 1, 1, 1, 1, 1, 1, 1, 1, 1, 1, 1]\n"
     ]
    }
   ],
   "source": [
    "#define number of qbits\n",
    "num_qbits=1\n",
    "\n",
    "#break message into small chunchs with len <=5 (using 5 qubit systems)\n",
    "break_message = []\n",
    "\n",
    "#break the len_message into chunks of size 5 or less\n",
    "for i in range(int(len_message/num_qbits)):\n",
    "    break_message.append(num_qbits)\n",
    "if len_message%num_qbits!=0:\n",
    "    break_message.append(len_message%num_qbits)\n",
    "    \n",
    "#print the results\n",
    "print('Key length = length of message', len_message)\n",
    "print('The message is broken in to the following chuncks:',break_message) #shows how the message will be broken down"
   ]
  },
  {
   "cell_type": "markdown",
   "metadata": {},
   "source": [
    "As you can see from the above step, the message of lenth of message will be equal to length of the key, however this is subdivided into small bits (of size <5 bits) so that we can generate a 5 bit random binary string."
   ]
  },
  {
   "cell_type": "markdown",
   "metadata": {},
   "source": [
    "# The breakdown of the BB84 protocol (a simpler version)\n",
    "* **Alice** wants to send the above message to **Bob** .\n",
    "\n",
    "1) Alice will generate a random string of binary numbers whose length will be equal to the length of the message (or greater).\n",
    "\n",
    "2) Alice will convert this string into corresponding quibits. But, she will put them into a superposition before sending it to Bob\n",
    "\n",
    "3) Alice will send this superposition to Bob\n",
    "\n",
    "4) Bob recievs this superposition and randomly rotates it in the opposite direction \n",
    "\n",
    "5) Now, Alice and Bob will publicly share the keys with which the qubits were rotated, when the did the same thing, both can calculate a similar key. (In theory it should be the same)\n",
    "\n",
    "6) Alice and Bob create their keys which will be used to encode message by Alice and decode the message at Bobs site."
   ]
  },
  {
   "cell_type": "markdown",
   "metadata": {},
   "source": [
    "## Define a function to generate a random string of binary digits \n",
    " The input is size of the string that needs to be generated.\n",
    " \n",
    " The output is the random string of binary digits."
   ]
  },
  {
   "cell_type": "code",
   "execution_count": 5,
   "metadata": {},
   "outputs": [],
   "source": [
    "#generate a random key to encrypt the message\n",
    "# random string generator of str_len (the length of the string)\n",
    "#this generates the initial key as per the length of string\n",
    "\n",
    "def RandomStringG (str_len):\n",
    "    op_str = ''                  #define a empty output string that will be returned\n",
    "\n",
    "    \n",
    "    #run this in chuncks of 5 cubits, new output will will appended to a string \n",
    "    \n",
    "    n=str_len                    #sent parameter/argument\n",
    "    temp_n=num_qbits             #5 qubit chunks\n",
    "    \n",
    "    for i in range (math.ceil(n/temp_n)): # consider the upper limit of the division\n",
    "        q = QuantumRegister(temp_n)       #create a Q register of size temp_n\n",
    "        c = ClassicalRegister(temp_n)     #create a Classical Register\n",
    "        QC = QuantumCircuit(q, c)         #create a Q circuit\n",
    "\n",
    "        # this will generate a circuit which will output a ranomly 1s or 0s in chunks of 5 bits/units\n",
    "        for i in range (temp_n):    \n",
    "            QC.h(q[i])                    #h gate to make superposition of 1 and 0\n",
    "            QC.measure(q[i],c[i])         #collapse the Super position\n",
    "    \n",
    "        #execute and store/append the results  in op_str\n",
    "        # generates a 5bit binary number randomly, as n=5\n",
    "        op_str+= list(execute (QC, backend, shots=1).result().get_counts(QC).keys())[0]  \n",
    "        \n",
    "    return op_str[:n]"
   ]
  },
  {
   "cell_type": "markdown",
   "metadata": {},
   "source": [
    "The circut to generate random binary numbers using a 5 bit quantum computer. This gives out a 5 bit random binary number."
   ]
  },
  {
   "cell_type": "code",
   "execution_count": 6,
   "metadata": {},
   "outputs": [
    {
     "data": {
      "image/png": "[encoded data removed]",
      "text/plain": [
       "<Figure size 266.084x144.48 with 1 Axes>"
      ]
     },
     "execution_count": 6,
     "metadata": {},
     "output_type": "execute_result"
    }
   ],
   "source": [
    "q = QuantumRegister(num_qbits, name='qreg')       #create a Q register of size temp_n\n",
    "c = ClassicalRegister(num_qbits, name='creg')     #create a Classical Register\n",
    "QC = QuantumCircuit(q,c)\n",
    "\n",
    "for i in range (num_qbits):          #H gate on all qubits\n",
    "    QC.h(q[i])               #h gate to make superposition of 1 and 0\n",
    "    QC.measure(q[i],c[i])    #collapse the Super position\n",
    "    \n",
    "QC.draw('mpl')"
   ]
  },
  {
   "cell_type": "markdown",
   "metadata": {},
   "source": [
    "Alice will generate a random key called Innitial Key. This will be used to generate the encryption key.\n",
    "\n",
    "**Alice and Alice only will have this key.** (Innitial Key)"
   ]
  },
  {
   "cell_type": "code",
   "execution_count": 7,
   "metadata": {},
   "outputs": [
    {
     "name": "stdout",
     "output_type": "stream",
     "text": [
      "Initial key (string):  100011100011010101101010110101010\n"
     ]
    }
   ],
   "source": [
    "#this is the innitial key that alice generates and will be used to generate the encryption and so on\n",
    "\n",
    "key = RandomStringG(len_message)                 # store the random string in the variable key\n",
    "print('Initial key (string): ',key)              #print key"
   ]
  },
  {
   "cell_type": "markdown",
   "metadata": {},
   "source": [
    "Now, Alice will generate a random string of binary numbers again. This will be transmitted to Bob"
   ]
  },
  {
   "cell_type": "code",
   "execution_count": 8,
   "metadata": {},
   "outputs": [
    {
     "name": "stdout",
     "output_type": "stream",
     "text": [
      "Alice rotation key is : 000001001010000001011000000000011\n"
     ]
    }
   ],
   "source": [
    "#Generate a random string of binary digits which she will send to Bob\n",
    "A_rot = RandomStringG (len_message)\n",
    "print('Alice rotation key is :',A_rot) #print this random string"
   ]
  },
  {
   "cell_type": "markdown",
   "metadata": {},
   "source": [
    "Similarly, Bob will generate a random string. Bob will send this to Alice"
   ]
  },
  {
   "cell_type": "code",
   "execution_count": 9,
   "metadata": {},
   "outputs": [
    {
     "name": "stdout",
     "output_type": "stream",
     "text": [
      "Bobs rotation key 101010110101101010111010010001000\n"
     ]
    }
   ],
   "source": [
    "#at the same time Bob will generate a random key which he will send to Alice\n",
    "B_rot = RandomStringG (len_message)\n",
    "print('Bobs rotation key',B_rot)"
   ]
  },
  {
   "cell_type": "markdown",
   "metadata": {},
   "source": [
    "Now both Alice and Bob have generated and shared their rotation keys.\n",
    "\n",
    "Now, Alice uses this **Alice's Rotation Key**. She wants to a send a Superposition of Qubits to Bob. For that first she checks if the bit is 0, then she will prepare a qubit on the negative z axis. If the bit is one, she will prepare a qubit on the positive z axis. This is done by the X gate.\n",
    "\n",
    "Furthermore, Alice checks that if it is a 1 bit, she will rotate the quibit using a H gate.\n",
    "\n",
    "Now she sends this superposition to Bob.\n",
    "\n",
    "He will take this and rotate it in the opposite direction with a H gate. After that Bob measures the qubit and records the result, this is stored in Bob_result.\n",
    "\n",
    "*If a third party observes this superposition, the key/state will be broken and Bob and Alice will know!*\n",
    "\n",
    "### Note: Only Alice's Rotation Key and Bob's Rotation Key are public"
   ]
  },
  {
   "cell_type": "code",
   "execution_count": 10,
   "metadata": {},
   "outputs": [
    {
     "name": "stdout",
     "output_type": "stream",
     "text": [
      "Bob's results:  000000111100011101101010110100001\n"
     ]
    }
   ],
   "source": [
    "Bob_result = '' # bob will store his results here\n",
    "\n",
    "\n",
    "#before sending it rotate it randombly into a superposition\n",
    "\n",
    "#break the message in length of less than 5 bits for 5 qubit operation. (chunks of 5 bits)\n",
    "for loc, BM_num  in enumerate(break_message):  #break_message contains how the message/string is divided\n",
    "    if BM_num <num_qbits:\n",
    "        temp_key = key[num_qbits*loc:num_qbits*loc+BM_num]\n",
    "        A_r_temp = A_rot[num_qbits*loc:num_qbits*loc+BM_num]\n",
    "        B_r_temp = B_rot[num_qbits*loc:num_qbits*loc+BM_num]\n",
    "    else:\n",
    "        temp_key = key[BM_num*loc:BM_num*(loc+1)]\n",
    "        A_r_temp = A_rot[BM_num*loc:BM_num*(loc+1)]\n",
    "        B_r_temp = B_rot[BM_num*loc:BM_num*(loc+1)]\n",
    "        \n",
    "    \n",
    "    #quantum computer takes over from here\n",
    "    #generate a register (classical and quantum) and a quantum circuit\n",
    "    q = QuantumRegister(BM_num)\n",
    "    c = ClassicalRegister(BM_num)\n",
    "    SEND_QC = QuantumCircuit(q,c)\n",
    "    \n",
    "    \n",
    "    #the first part will be on alice's size and the second at bobs\n",
    "\n",
    "    #loop to read each bit of all the above variables\n",
    "    for i,j,k,n in zip(temp_key,A_r_temp,B_r_temp,range(0,len(temp_key))):\n",
    "        \n",
    "        #this will run at alices site\n",
    "        i = int(i) #covert to int from string, can be 0 or 1\n",
    "        j = int(j)\n",
    "        if i >0:\n",
    "            SEND_QC.x(q[n]) # if bit is 0 prepare a qubit on the negative z axis, If 1 prepare a qubit on the positive z axis, X gate\n",
    "        if j >0:\n",
    "            SEND_QC.h(q[n]) #1 in alice's rotate string, she rotates the key qubit with a Hadamard gate, practically, alice should send this state to BOB\n",
    "        \n",
    "        \n",
    "        #techinically create a superpostion here and send it to Bob, (Physcally transport the superposition to bob)\n",
    "        # Bob recives it and rotates it in another direction\n",
    "        \n",
    "        k = int(k)\n",
    "        if k > 0:\n",
    "            SEND_QC.h(q[n])   #this H gate rotates the bit\n",
    "            \n",
    "            \n",
    "        #to break the superpositon, Bob measures it\n",
    "        SEND_QC.measure(q[n], c[n])\n",
    "    \n",
    "    #execute    \n",
    "    Bob_result += list(execute([SEND_QC], backend, shots=1).result().get_counts(SEND_QC).keys())[0][::-1] # Bob will observe the qubit. [::-1], as bob has to reverse the rotation\n",
    "print(\"Bob's results: \", Bob_result)      # this is bobs observation"
   ]
  },
  {
   "cell_type": "markdown",
   "metadata": {},
   "source": [
    "The above mentioned string is Bobs observation of the Superposition. **This belongs to Bob and Bob only**\n",
    "\n",
    "Now, Alice and Bob has shared their random strings with one and another and Bob has observed the Qubits that were in superposition (sent by Alice.)\n",
    "\n",
    "Given the public information i.e. Rotation Keys, Alice and Bob will generate a secret quantum encryption/decryption key.\n",
    "If a bit in Alice's rotation string is the same as the corresponding bit in Bob's they know that Bob's result is the same as what Alice sent.\n",
    "\n",
    "(In brief, both the keys should be the same) (Alice based on her original key/Initial Key and Bob based on his measured results/Bob_results)."
   ]
  },
  {
   "cell_type": "code",
   "execution_count": 11,
   "metadata": {},
   "outputs": [],
   "source": [
    "#using the public data i.e. Bobs and Alices rotation keys\n",
    "#if a bit in the rotated string is the same in both alice and bobs string! voila, keep this and generate the whole key\n",
    "\n",
    "#check for one - one correspondence in the \n",
    "def KeyGen(rot_1,rot_2,results):\n",
    "    key = ''\n",
    "    count = 0\n",
    "    for i,j in zip(rot_1,rot_2):\n",
    "        if i == j:\n",
    "            key += results[count]\n",
    "        count += 1\n",
    "    return key"
   ]
  },
  {
   "cell_type": "code",
   "execution_count": 12,
   "metadata": {},
   "outputs": [
    {
     "name": "stdout",
     "output_type": "stream",
     "text": [
      "Alice's key: 0011010010100\n"
     ]
    }
   ],
   "source": [
    "A_key = KeyGen(B_rot,A_rot,key)\n",
    "print(\"Alice's key:\",A_key)"
   ]
  },
  {
   "cell_type": "code",
   "execution_count": 13,
   "metadata": {},
   "outputs": [
    {
     "name": "stdout",
     "output_type": "stream",
     "text": [
      "Bob's key:   0011010010100\n"
     ]
    }
   ],
   "source": [
    "B_key = KeyGen(B_rot,A_rot,Bob_result)\n",
    "print(\"Bob's key:  \",B_key)"
   ]
  },
  {
   "cell_type": "code",
   "execution_count": 14,
   "metadata": {},
   "outputs": [
    {
     "name": "stdout",
     "output_type": "stream",
     "text": [
      "The key is a match!\n"
     ]
    }
   ],
   "source": [
    "if A_key == B_key:\n",
    "    print('The key is a match!')\n",
    "else:\n",
    "    print('Error, Key not matched')"
   ]
  },
  {
   "cell_type": "markdown",
   "metadata": {},
   "source": [
    "As you can see, the keys are a perfect match, if they were not, someone tried to evesdrob on your superpositon.\n",
    "\n",
    "### Note: In practice this doesn't happen, there is a lot of noise that gets added to this and thereby the keys dont match. Inorder to overcome this we need to mitigate the errors by taking multiple measurements.\n",
    "\n",
    "Now we have a secure key that no one knows, we can use **THIS** key to encrypt and decrypt messages"
   ]
  },
  {
   "cell_type": "code",
   "execution_count": 15,
   "metadata": {},
   "outputs": [
    {
     "name": "stdout",
     "output_type": "stream",
     "text": [
      "Encoded message : §§©[©­¦\n"
     ]
    }
   ],
   "source": [
    "#encoding\n",
    "#alice will encode a message with the above mentioned key\n",
    "\n",
    "#shorten the key as it is longer and we have added extra digits at the end\n",
    "short_A_key = A_key[:len(message)]\n",
    "encoded_mess =''     #define a empty string to store the encrypted message\n",
    "\n",
    "#encrypt it to produce a encrypted message\n",
    "for letter_mes,int_key in zip(message,short_A_key):\n",
    "    encd_char = chr (ord(letter_mes) + (10+ord(int_key))%256)  # basically shifts the ord(k) by 10 units (in ASCII) # can use any other encryption methods.\n",
    "    encoded_mess += encd_char\n",
    "print('Encoded message :', encoded_mess)\n",
    "\n",
    "#send this encoded message to bob"
   ]
  },
  {
   "cell_type": "code",
   "execution_count": 16,
   "metadata": {},
   "outputs": [
    {
     "name": "stdout",
     "output_type": "stream",
     "text": [
      "Decoded message:  Hello World\n"
     ]
    }
   ],
   "source": [
    "#to decrypt\n",
    "#Bob will use his key (which should be the same) to break the encryption\n",
    "short_B_key = B_key[:len(message)]\n",
    "decoded_mess =''\n",
    "for letter_mes,int_key in zip(encoded_mess,short_B_key):\n",
    "    decd_char = chr (ord(letter_mes)-(10+ord(int_key))%256)  # basically shifts the ord(k) by 10 units (in ASCII)\n",
    "    decoded_mess += decd_char\n",
    "print('Decoded message: ',decoded_mess)"
   ]
  },
  {
   "cell_type": "markdown",
   "metadata": {},
   "source": [
    "# Presence of Eve"
   ]
  },
  {
   "cell_type": "markdown",
   "metadata": {},
   "source": [
    "### Eve is evesdropping !\n",
    "Inorder to simulate what will happen if another third person tries to listen to this communication.\n",
    "\n",
    "Consider Eve is trying to listen what Alice sent to Bob. Eve knows Alice's and Bob's Public rotation keys.\n",
    "\n",
    "Alice has sent a superposition of random qubits to Bob. Now Eve tries to read these qubits and listen to Alice and Bobs conversation. Consider the situation where Alice has sent Bob a superposition of the qubits and Eve tries to measure them.\n"
   ]
  },
  {
   "cell_type": "code",
   "execution_count": 17,
   "metadata": {},
   "outputs": [
    {
     "name": "stdout",
     "output_type": "stream",
     "text": [
      "Eve's results:  100010100011010101100010110101011\n"
     ]
    }
   ],
   "source": [
    "#Eve tries to evesdrop\n",
    "#Eve has captured the qubits and then she applies a X gate to flip them and a H gate to rotates it in the opposite direction as Bob would do.\n",
    "#but now the Superposition is broken as Eve has measured the quibit.\n",
    "\n",
    "#now Eve generates Eve_results similar to Bob results.\n",
    "\n",
    "Eve_result = ''\n",
    "\n",
    "\n",
    "#break the message in length of less than 5 bits for 5 qubit operation. (chunks of 5 bits)\n",
    "for loc, BM_num in enumerate(break_message): #break_message contains how the message/string is divided\n",
    "    if BM_num <num_qbits:\n",
    "        temp_key = key[num_qbits*loc:num_qbits*loc+BM_num]\n",
    "        A_r_temp = A_rot[num_qbits*loc:num_qbits*loc+BM_num]   #eve uses Public rotation key of Alice to try to decode the string\n",
    "    else:\n",
    "        temp_key = key[BM_num*loc:BM_num*(loc+1)]\n",
    "        A_r_temp = A_rot[BM_num*loc:BM_num*(loc+1)]\n",
    "    \n",
    "    #quantum computer takes over from here\n",
    "    #generate a register (classical and quantum) and a quantum circuit\n",
    "    q = QuantumRegister(BM_num)\n",
    "    c = ClassicalRegister(BM_num)\n",
    "    Eve_QC = QuantumCircuit(q,c)\n",
    "    \n",
    "    #prepare qubits based on key; add Hadamard gates based on Alice's and Bob's\n",
    "    #rotation strings\n",
    "    for i,j,n in zip(temp_key,A_r_temp,range(0,len(temp_key))):\n",
    "        i = int(i)\n",
    "        j = int(j)\n",
    "        if i > 0:\n",
    "            Eve_QC.x(q[n])\n",
    "        if j > 0:\n",
    "            Eve_QC.h(q[n])\n",
    "        Eve_QC.measure(q[n],c[n])\n",
    "    \n",
    "    #execute\n",
    "    Eve_result+=(list(execute(Eve_QC, backend, shots=1).result().get_counts(Eve_QC).keys())[0][::-1])\n",
    "\n",
    "print(\"Eve's results: \", Eve_result)"
   ]
  },
  {
   "cell_type": "markdown",
   "metadata": {},
   "source": [
    "Since Eve read/observed the superposition the wave function collapsed. Now if Bob doesn't recieve any communication, he would know someone was tring to evesdrop.\n",
    "\n",
    "Now, Eve tries to be sneaky and tries to generate an superposition of qubits and sends it to Bob so that he doesnt become suspecious. (but that is what Eve thinks)"
   ]
  },
  {
   "cell_type": "code",
   "execution_count": 18,
   "metadata": {},
   "outputs": [
    {
     "name": "stdout",
     "output_type": "stream",
     "text": [
      "Bob's previous results (w/o Eve): 000000111100011101101010110100001\n",
      "Bob's results from Eve:\t\t  101000000011110101110010110101011\n"
     ]
    }
   ],
   "source": [
    "#this will generate the superposition generated by Eve which she sends to Bob\n",
    "\n",
    "Bob_bad_result = ''  #stores the result genrated by Eve from the measured qubits!\n",
    "\n",
    "#the code is similar to the above one\n",
    "for loc, BM_num in enumerate(break_message):\n",
    "    if BM_num < num_qbits:\n",
    "        temp_key = key[num_qbits*loc:num_qbits*loc+BM_num]\n",
    "        temp_eve = Eve_result[num_qbits*loc:num_qbits*loc+BM_num]\n",
    "        B_r_temp = B_rot[num_qbits*loc:num_qbits*loc+BM_num]\n",
    "    else:\n",
    "        temp_key = key[BM_num*loc:BM_num*(loc+1)]\n",
    "        temp_eve = Eve_result[BM_num*loc:BM_num*(loc+1)]\n",
    "        B_r_temp = B_rot[BM_num*loc:BM_num*(loc+1)]\n",
    "    \n",
    "    #create a quantum circuit to generate superposition as per Eve_results\n",
    "    q = QuantumRegister(BM_num)\n",
    "    c = ClassicalRegister(BM_num)\n",
    "    Eve_2_QC = QuantumCircuit(q , c)\n",
    "    \n",
    "    #prepare qubits and send the superpositon\n",
    "    for i,j,n in zip(temp_eve,B_r_temp,range(0,len(temp_key))):\n",
    "        i = int(i)\n",
    "        j = int(j)\n",
    "        if i > 0:\n",
    "            Eve_2_QC.x(q[n])\n",
    "        if j > 0:\n",
    "            Eve_2_QC.h(q[n])\n",
    "            \n",
    "        #technically Eve will send the superposition of qubits from here to Bob\n",
    "        Eve_2_QC.measure(q[n],c[n])\n",
    "    \n",
    "    #At Bob's site this is what he will observe!\n",
    "    Bob_bad_result += list(execute(Eve_2_QC, backend, shots=1).result().get_counts(Eve_2_QC).keys())[0][::-1]\n",
    "    \n",
    "print(\"Bob's previous results (w/o Eve):\",Bob_result) #original result\n",
    "print(\"Bob's results from Eve:\\t\\t \",Bob_bad_result) #bad/intercepted result"
   ]
  },
  {
   "cell_type": "markdown",
   "metadata": {},
   "source": [
    "Bob should have obsvered the first result (w/o Eve), however since Eve tried to evesdrop and generate a new random superposition, Bob will recieve a new quperposition of qubits.\n",
    "\n",
    "The next cell will show that if Bob tries to generate a key, it will be different than what Alice will genrate. Thereby, Bob wont be able to decrypt the message that Alice has sent!"
   ]
  },
  {
   "cell_type": "code",
   "execution_count": 19,
   "metadata": {},
   "outputs": [
    {
     "name": "stdout",
     "output_type": "stream",
     "text": [
      "Alice's key:    0011010010100\n",
      "Bob's new key:  0011100010100\n",
      "Keys don't match !\n"
     ]
    }
   ],
   "source": [
    "#make keys for Alice and Bob with the bad result Eve sent\n",
    "A_key_new = KeyGen(B_rot,A_rot,key)\n",
    "B_key_new = KeyGen(B_rot,A_rot,Bob_bad_result)\n",
    "\n",
    "print(\"Alice's key:   \",A_key_new)\n",
    "print(\"Bob's new key: \",B_key_new)\n",
    "\n",
    "if not A_key_new == B_key_new:\n",
    "    print(\"Keys don't match !\") #this is just for our reference"
   ]
  },
  {
   "cell_type": "markdown",
   "metadata": {},
   "source": [
    "Since the keys dont match, the encrypted text that Alice will send, Bob wont be able to decrypt it. But how will both Alice and Bob check this ?\n",
    "\n",
    "Inorder to check the descrepancy, Alice will generate a Check key, i.e. a random key same as the length of the A_new_key. She will then send this random key to Bob who will check his B_new_key for discrepancies "
   ]
  },
  {
   "cell_type": "code",
   "execution_count": 20,
   "metadata": {},
   "outputs": [
    {
     "name": "stdout",
     "output_type": "stream",
     "text": [
      "spots to check: 0100011011001\n"
     ]
    }
   ],
   "source": [
    "#generate a random key by Alice and send it to Bob\n",
    "check_key = RandomStringG(len(A_key_new))\n",
    "print('spots to check:',check_key)"
   ]
  },
  {
   "cell_type": "code",
   "execution_count": 21,
   "metadata": {},
   "outputs": [
    {
     "name": "stdout",
     "output_type": "stream",
     "text": [
      "subset of Alice's key: 010100\n",
      "subset of Bob's key:   000100\n",
      "Eve detected!\n"
     ]
    }
   ],
   "source": [
    "#with the help of publicly known keys, i.e. Alice rotation key and Bob rotation key and now check Key\n",
    "#after recieving this key, both Alice and Bob will check for the position of the binary digit '1' in the check key and generate a Sub_key\n",
    "\n",
    "\n",
    "#this is ALice site\n",
    "#find the values in the roation keys that were used to make the KEY, here initial key\n",
    "A_key_rot = KeyGen(B_rot,A_rot,A_rot)\n",
    "\n",
    "# Inorder to detect Eve's interference extract a subset of Alice's key \n",
    "sub_A_key = ''\n",
    "count = 0\n",
    "for i,j in zip(A_rot,A_key_new):\n",
    "    if int(check_key[count]) == 1:\n",
    "        sub_A_key += A_key_new[count]\n",
    "    count += 1\n",
    "#print the faulty subsection of public keys and send it to Bob\n",
    "print(\"subset of Alice's key:\",sub_A_key)\n",
    "    \n",
    "    \n",
    "       \n",
    "#this is Bob site\n",
    "#find the values in the roation keys that were used to make the KEY, here Bob_result\n",
    "B_key_rot = KeyGen(B_rot,A_rot,B_rot)\n",
    "\n",
    "#extract a subset of Bob's key\n",
    "sub_B_key = ''\n",
    "count = 0\n",
    "for i,j in zip(B_rot,B_key_new):\n",
    "    if int(check_key[count]) == 1:\n",
    "        sub_B_key += B_key_new[count]\n",
    "\n",
    "    count += 1\n",
    "    \n",
    "#print the faulty subsection of public keys and send it to Alice\n",
    "print(\"subset of Bob's key:  \",sub_B_key)\n",
    "\n",
    "#now Alice and Bob sends their faulty keys (which are a part of the public knowledge,as they were shared) to one and another \n",
    "#compare Alice and Bob's key subsets\n",
    "\n",
    "secure = True\n",
    "for i,j in zip(sub_A_key,sub_B_key):\n",
    "    if i == j:\n",
    "        secure = True\n",
    "    else:\n",
    "        secure = False\n",
    "        break;\n",
    "if not secure:\n",
    "    print('Eve detected!')\n",
    "else:\n",
    "    print('No evesdropper detected')\n",
    "    "
   ]
  },
  {
   "cell_type": "markdown",
   "metadata": {},
   "source": [
    "### Note: It is important to have longer keys so that it becomes easier to detect the presence of Eve"
   ]
  },
  {
   "cell_type": "code",
   "execution_count": null,
   "metadata": {},
   "outputs": [],
   "source": []
  }
 ],
 "metadata": {
  "kernelspec": {
   "display_name": "Python 3",
   "language": "python",
   "name": "python3"
  },
  "language_info": {
   "codemirror_mode": {
    "name": "ipython",
    "version": 3
   },
   "file_extension": ".py",
   "mimetype": "text/x-python",
   "name": "python",
   "nbconvert_exporter": "python",
   "pygments_lexer": "ipython3",
   "version": "3.7.3"
  }
 },
 "nbformat": 4,
 "nbformat_minor": 2
}
